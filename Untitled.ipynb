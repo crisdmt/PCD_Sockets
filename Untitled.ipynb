{
 "cells": [
  {
   "cell_type": "code",
   "execution_count": 6,
   "id": "8348d1f4-5c08-4c7c-8dc4-bfa864c5f0c3",
   "metadata": {},
   "outputs": [
    {
     "ename": "ValueError",
     "evalue": "'356.0.0.1' does not appear to be an IPv4 or IPv6 address",
     "output_type": "error",
     "traceback": [
      "\u001b[1;31m---------------------------------------------------------------------------\u001b[0m",
      "\u001b[1;31mValueError\u001b[0m                                Traceback (most recent call last)",
      "\u001b[1;32m<ipython-input-6-c0f433d6e0d9>\u001b[0m in \u001b[0;36m<module>\u001b[1;34m\u001b[0m\n\u001b[0;32m      3\u001b[0m \u001b[1;33m\u001b[0m\u001b[0m\n\u001b[0;32m      4\u001b[0m \u001b[1;33m\u001b[0m\u001b[0m\n\u001b[1;32m----> 5\u001b[1;33m \u001b[0mipaddress\u001b[0m\u001b[1;33m.\u001b[0m\u001b[0mip_address\u001b[0m\u001b[1;33m(\u001b[0m\u001b[1;34m\"356.0.0.1\"\u001b[0m\u001b[1;33m)\u001b[0m\u001b[1;33m\u001b[0m\u001b[1;33m\u001b[0m\u001b[0m\n\u001b[0m",
      "\u001b[1;32m~\\anaconda3\\lib\\ipaddress.py\u001b[0m in \u001b[0;36mip_address\u001b[1;34m(address)\u001b[0m\n\u001b[0;32m     51\u001b[0m         \u001b[1;32mpass\u001b[0m\u001b[1;33m\u001b[0m\u001b[1;33m\u001b[0m\u001b[0m\n\u001b[0;32m     52\u001b[0m \u001b[1;33m\u001b[0m\u001b[0m\n\u001b[1;32m---> 53\u001b[1;33m     raise ValueError('%r does not appear to be an IPv4 or IPv6 address' %\n\u001b[0m\u001b[0;32m     54\u001b[0m                      address)\n\u001b[0;32m     55\u001b[0m \u001b[1;33m\u001b[0m\u001b[0m\n",
      "\u001b[1;31mValueError\u001b[0m: '356.0.0.1' does not appear to be an IPv4 or IPv6 address"
     ]
    }
   ],
   "source": [
    "import ipaddress\n",
    "import sys\n",
    "\n",
    "\n",
    "ipaddress.ip_address(\"356.0.0.1\")"
   ]
  },
  {
   "cell_type": "code",
   "execution_count": null,
   "id": "c4ff82c3-c5b5-4928-b637-6cd3e6ed5a5b",
   "metadata": {},
   "outputs": [],
   "source": []
  }
 ],
 "metadata": {
  "kernelspec": {
   "display_name": "Python 3",
   "language": "python",
   "name": "python3"
  },
  "language_info": {
   "codemirror_mode": {
    "name": "ipython",
    "version": 3
   },
   "file_extension": ".py",
   "mimetype": "text/x-python",
   "name": "python",
   "nbconvert_exporter": "python",
   "pygments_lexer": "ipython3",
   "version": "3.8.8"
  }
 },
 "nbformat": 4,
 "nbformat_minor": 5
}
